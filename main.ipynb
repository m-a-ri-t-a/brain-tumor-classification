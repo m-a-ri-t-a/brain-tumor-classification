{
 "cells": [
  {
   "cell_type": "code",
   "execution_count": 1,
   "metadata": {
    "ExecuteTime": {
     "end_time": "2025-01-06T19:25:50.523902Z",
     "start_time": "2025-01-06T19:25:50.495778Z"
    }
   },
   "outputs": [],
   "source": [
    "%load_ext autoreload\n",
    "%autoreload 2"
   ]
  },
  {
   "cell_type": "code",
   "execution_count": 2,
   "metadata": {
    "ExecuteTime": {
     "end_time": "2025-01-06T20:11:05.688279Z",
     "start_time": "2025-01-06T20:11:05.103935Z"
    }
   },
   "outputs": [],
   "source": [
    "import os\n",
    "import numpy as np\n",
    "import torch\n",
    "from torchvision import datasets, transforms\n",
    "from torch.utils.data import DataLoader, random_split\n",
    "import matplotlib.pyplot as plt\n",
    "from collections import Counter\n",
    "from sklearn.metrics import confusion_matrix, f1_score, accuracy_score\n",
    "from sklearn.model_selection import ParameterGrid\n",
    "from models import MRIResNetClassifier, MRI_VGG16_Classifier\n",
    "from multiprocessing import cpu_count"
   ]
  },
  {
   "cell_type": "code",
   "execution_count": 3,
   "metadata": {
    "ExecuteTime": {
     "end_time": "2025-01-06T19:25:51.037200Z",
     "start_time": "2025-01-06T19:25:50.983279Z"
    }
   },
   "outputs": [],
   "source": [
    "transform = transforms.Compose([\n",
    "    transforms.Resize((224, 224)),\n",
    "    transforms.ToTensor(),\n",
    "    transforms.Normalize(mean=[0.485, 0.456, 0.406], std=[0.229, 0.224, 0.225])  # ImageNet stats\n",
    "])\n",
    "\n",
    "train_data_full = datasets.ImageFolder(root=\"cleaned/Training\", transform=transform)\n",
    "class_names = train_data_full.classes\n",
    "\n",
    "train_size = int(0.8 * len(train_data_full))  # 80% za trening\n",
    "val_size = len(train_data_full) - train_size  # 20% za validaciju\n",
    "\n",
    "train_data, val_data = random_split(train_data_full, [train_size, val_size])\n",
    "test_data = datasets.ImageFolder(root=\"cleaned/Testing\", transform=transform)"
   ]
  },
  {
   "cell_type": "code",
   "execution_count": null,
   "metadata": {
    "ExecuteTime": {
     "end_time": "2025-01-06T19:25:56.972418Z",
     "start_time": "2025-01-06T19:25:51.238862Z"
    },
    "scrolled": true
   },
   "outputs": [],
   "source": [
    "def plot_class_distribution(data, title):\n",
    "    counts = Counter(data.targets if hasattr(data, 'targets') else [x[1] for x in data])\n",
    "    labels = [class_names[i] for i in range(len(class_names))]\n",
    "    plt.figure(figsize=(4, 4))\n",
    "    plt.pie([counts[i] for i in range(len(class_names))], labels=labels, autopct='%1.1f%%', startangle=90)\n",
    "    plt.title(title)\n",
    "    plt.axis('equal')\n",
    "    plt.show()\n",
    "\n",
    "plot_class_distribution(train_data, \"Train Data Distribution\")\n",
    "plot_class_distribution(val_data, \"Validation Data Distribution\")\n",
    "plot_class_distribution(test_data, \"Test Data Distribution\")"
   ]
  },
  {
   "cell_type": "code",
   "execution_count": null,
   "metadata": {
    "ExecuteTime": {
     "end_time": "2025-01-06T19:26:02.136624Z",
     "start_time": "2025-01-06T19:25:56.973737Z"
    }
   },
   "outputs": [],
   "source": [
    "train_targets = [train_data_full[i][1] for i in train_data.indices]\n",
    "val_targets = [train_data_full[i][1] for i in val_data.indices]\n",
    "test_targets = [label for _, label in test_data] \n",
    "\n",
    "def count_classes(targets, num_classes):\n",
    "    counts = [0] * num_classes\n",
    "    for target in targets:\n",
    "        counts[target] += 1\n",
    "    return counts\n",
    "\n",
    "train_counts = count_classes(train_targets, len(class_names))\n",
    "val_counts = count_classes(val_targets, len(class_names))\n",
    "test_counts = count_classes(test_targets, len(class_names))\n",
    "\n",
    "\n",
    "print(\"Train-Val-Test Split per Class:\")\n",
    "for i, class_name in enumerate(class_names):\n",
    "    train_count = train_counts[i]\n",
    "    val_count = val_counts[i]\n",
    "    test_count = test_counts[i]\n",
    "    total_count = train_count + val_count + test_count\n",
    "    \n",
    "    train_percentage = (train_count / total_count) * 100 if total_count > 0 else 0\n",
    "    val_percentage = (val_count / total_count) * 100 if total_count > 0 else 0\n",
    "    test_percentage = (test_count / total_count) * 100 if total_count > 0 else 0\n",
    "    \n",
    "    print(f\"{class_name}: Train = {train_count} ({train_percentage:.2f}%), \"\n",
    "          f\"Val = {val_count} ({val_percentage:.2f}%), \"\n",
    "          f\"Test = {test_count} ({test_percentage:.2f}%)\")"
   ]
  },
  {
   "cell_type": "code",
   "execution_count": 6,
   "metadata": {
    "ExecuteTime": {
     "end_time": "2025-01-06T19:26:05.838060Z",
     "start_time": "2025-01-06T19:26:05.804876Z"
    }
   },
   "outputs": [],
   "source": [
    "num_workers = cpu_count() // 2\n",
    "\n",
    "train_loader = DataLoader(train_data, batch_size=16, shuffle=True, num_workers=num_workers)\n",
    "val_loader = DataLoader(val_data, batch_size=16, shuffle=False, num_workers=num_workers)\n",
    "test_loader = DataLoader(test_data, batch_size=16, shuffle=False, num_workers=num_workers)"
   ]
  },
  {
   "cell_type": "code",
   "execution_count": 7,
   "metadata": {
    "ExecuteTime": {
     "end_time": "2025-01-06T19:26:06.484420Z",
     "start_time": "2025-01-06T19:26:06.454324Z"
    }
   },
   "outputs": [],
   "source": [
    "def train(model, epochs, train_loader, val_loader, optimizer, criterion, device):\n",
    "    best_val_acc = 0\n",
    "    \n",
    "    for epoch in range(epochs):\n",
    "        model.train()\n",
    "        total_train_loss = 0.0\n",
    "        train_pred_correct = 0\n",
    "        total = 0\n",
    "\n",
    "        for inputs, labels in train_loader:\n",
    "            inputs, labels = inputs.to(device), labels.to(device)\n",
    "            optimizer.zero_grad()\n",
    "            outputs = model(inputs)\n",
    "            loss = criterion(outputs, labels)\n",
    "            loss.backward()\n",
    "            optimizer.step()\n",
    "            total_train_loss += loss.item()\n",
    "            train_pred_correct += (outputs.argmax(1) == labels).sum().item()\n",
    "            total += len(labels)\n",
    "\n",
    "        train_accuracy = train_pred_correct / total\n",
    "\n",
    "        model.eval()\n",
    "        total_val_loss = 0.0\n",
    "        val_pred_correct = 0\n",
    "        total_val = 0\n",
    "\n",
    "        with torch.no_grad():\n",
    "            for inputs, labels in val_loader:\n",
    "                inputs, labels = inputs.to(device), labels.to(device)\n",
    "                outputs = model(inputs)\n",
    "                loss = criterion(outputs, labels)\n",
    "                total_val_loss += loss.item()\n",
    "                val_pred_correct += (outputs.argmax(1) == labels).sum().item()\n",
    "                total_val += len(labels)\n",
    "\n",
    "        val_accuracy = val_pred_correct / total_val\n",
    "\n",
    "        if val_accuracy > best_val_acc:\n",
    "            best_val_acc = val_accuracy\n",
    "\n",
    "        print(f\"Epoch {epoch+1}: Train Loss={total_train_loss/len(train_loader):.4f}, \"\n",
    "              f\"Train Acc={train_accuracy:.4f}, Val Loss={total_val_loss/len(val_loader):.4f}, \"\n",
    "              f\"Val Acc={val_accuracy:.4f}\")\n",
    "        \n",
    "    return best_val_acc\n",
    "\n",
    "\n",
    "def evaluate(model, loader, device):\n",
    "    model.eval()\n",
    "    all_labels = []\n",
    "    all_predictions = []\n",
    "    with torch.no_grad():\n",
    "        for inputs, labels in loader:\n",
    "            inputs, labels = inputs.to(device), labels.to(device)\n",
    "            outputs = model(inputs)\n",
    "            pred_labels = outputs.argmax(dim=1)\n",
    "            all_labels.extend(labels.cpu().numpy())\n",
    "            all_predictions.extend(pred_labels.cpu().numpy())\n",
    "\n",
    "    conf_matrix = confusion_matrix(all_labels, all_predictions)\n",
    "    acc = accuracy_score(all_labels, all_predictions)\n",
    "    f1 = f1_score(all_labels, all_predictions, average=\"macro\")\n",
    "\n",
    "    print(\"Confusion matrix:\\n\", conf_matrix)\n",
    "    print('Accuracy:', acc)\n",
    "    print('F1 score:', f1)\n",
    "    return acc, f1\n",
    "                "
   ]
  },
  {
   "cell_type": "code",
   "execution_count": 8,
   "metadata": {
    "ExecuteTime": {
     "end_time": "2025-01-06T19:26:07.476491Z",
     "start_time": "2025-01-06T19:26:07.454518Z"
    }
   },
   "outputs": [],
   "source": [
    "device = torch.device(\"mps\" if torch.backends.mps.is_available() else \"cpu\")"
   ]
  },
  {
   "cell_type": "code",
   "execution_count": null,
   "metadata": {},
   "outputs": [],
   "source": [
    "#RESNET pretrained\n",
    "param_grid = {\n",
    "    'lr': [0.001],\n",
    "    'batch_size': [32, 64, 128],\n",
    "}\n",
    "\n",
    "best_params = None\n",
    "best_accuracy = 0.0\n",
    "\n",
    "for params in ParameterGrid(param_grid):\n",
    "    print(f\"Testing parameters: {params}\")\n",
    "    model = MRIResNetClassifier(len(train_data_full.classes), pretrained=True).to(device)\n",
    "    optimizer = torch.optim.Adam(model.parameters(), lr=params['lr'])\n",
    "    criterion = torch.nn.CrossEntropyLoss()\n",
    "    train_loader = DataLoader(train_data, batch_size=params['batch_size'], shuffle=True)\n",
    "    val_loader = DataLoader(val_data, batch_size=params['batch_size'], shuffle=False)\n",
    "\n",
    "    best_val_accuracy = train(model, 10, train_loader, val_loader, optimizer, criterion, device)\n",
    "\n",
    "    if best_val_accuracy > best_accuracy:\n",
    "        best_accuracy = best_val_accuracy\n",
    "        best_params = params\n",
    "        best_model = model\n",
    "\n",
    "print(\"Best Hyperparameters:\", best_params)\n",
    "\n",
    "print('Test evaluation:')\n",
    "evaluate(best_model, test_loader, device)"
   ]
  },
  {
   "cell_type": "code",
   "execution_count": null,
   "metadata": {},
   "outputs": [],
   "source": [
    "#RESNET koji nije pretrained\n",
    "param_grid = {\n",
    "    'lr': [0.0001],\n",
    "    'batch_size': [64],\n",
    "}\n",
    "\n",
    "best_params = None\n",
    "best_accuracy = 0.0\n",
    "\n",
    "for params in ParameterGrid(param_grid):\n",
    "    print(f\"Testing parameters: {params}\")\n",
    "    model = MRIResNetClassifier(len(train_data_full.classes)).to(device)\n",
    "    optimizer = torch.optim.Adam(model.parameters(), lr=params['lr'])\n",
    "    criterion = torch.nn.CrossEntropyLoss()\n",
    "    train_loader = DataLoader(train_data, batch_size=params['batch_size'], shuffle=True)\n",
    "    val_loader = DataLoader(val_data, batch_size=params['batch_size'], shuffle=False)\n",
    "\n",
    "    best_val_accuracy = train(model, 20, train_loader, val_loader, optimizer, criterion, device)\n",
    "    \n",
    "    if best_val_accuracy > best_accuracy:\n",
    "        best_accuracy = best_val_accuracy\n",
    "        best_params = params\n",
    "        best_model = model\n",
    "\n",
    "print(\"Best Hyperparameters:\", best_params)\n",
    "\n",
    "print('Test evaluation:')\n",
    "evaluate(best_model, test_loader, device)"
   ]
  },
  {
   "cell_type": "code",
   "execution_count": null,
   "metadata": {},
   "outputs": [],
   "source": [
    "param_grid = {\n",
    "    'lr': [0.01, 0.001],\n",
    "    'batch_size': [16, 32],\n",
    "}\n",
    "\n",
    "best_params = None\n",
    "best_accuracy = 0.0\n",
    "\n",
    "for params in ParameterGrid(param_grid):\n",
    "    print(f\"Testing parameters: {params}\")\n",
    "    model = MRI_VGG16_Classifier(len(train_data_full.classes)).to(device)\n",
    "    optimizer = torch.optim.Adam(model.parameters(), lr=params['lr'])\n",
    "    criterion = torch.nn.CrossEntropyLoss()\n",
    "    train_loader = DataLoader(train_data, batch_size=params['batch_size'], shuffle=True)\n",
    "    val_loader = DataLoader(val_data, batch_size=params['batch_size'], shuffle=False)\n",
    "\n",
    "    best_val_accuracy = train(model, 10, train_loader, val_loader, optimizer, criterion, device)\n",
    "    \n",
    "    if best_val_accuracy > best_accuracy:\n",
    "        best_accuracy = best_val_accuracy\n",
    "        best_params = params\n",
    "        best_model = model\n",
    "\n",
    "print(\"Best Hyperparameters:\", best_params)\n",
    "\n",
    "print('Test evaluation:')\n",
    "evaluate(best_model, test_loader, device)"
   ]
  }
 ],
 "metadata": {
  "kernelspec": {
   "display_name": ".venv",
   "language": "python",
   "name": "python3"
  },
  "language_info": {
   "codemirror_mode": {
    "name": "ipython",
    "version": 3
   },
   "file_extension": ".py",
   "mimetype": "text/x-python",
   "name": "python",
   "nbconvert_exporter": "python",
   "pygments_lexer": "ipython3",
   "version": "3.8.18"
  }
 },
 "nbformat": 4,
 "nbformat_minor": 4
}
